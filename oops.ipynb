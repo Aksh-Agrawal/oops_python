{
 "cells": [
  {
   "cell_type": "markdown",
   "id": "af3ad059",
   "metadata": {},
   "source": [
    "constructor "
   ]
  },
  {
   "cell_type": "code",
   "execution_count": null,
   "id": "bca2566b",
   "metadata": {},
   "outputs": [],
   "source": [
    "class Student:\n",
    "   \n",
    "\n",
    "    def __init__(self):\n",
    "        print(\"default construnctor\") #default construnctor\n",
    "        pass\n",
    "\n",
    "    def __init__ (self,name,rollno): #constructor (parametrized)\n",
    "        \n",
    "        self.name = name\n",
    "        self.rollno = rollno\n",
    "       \n",
    "        print(\"Name = \"  ,name)\n",
    "        print(\"rollno = \"  ,rollno)\n",
    "       \n",
    "        print(\"Student of particular data is complete\")\n",
    "\n",
    "s1 = Student(\"Aksh\",5) #object\n",
    "s2 = Student(\"Akshat\",15)\n",
    "\n",
    "\n"
   ]
  },
  {
   "cell_type": "markdown",
   "id": "5a5cc952",
   "metadata": {},
   "source": [
    "Attributes"
   ]
  },
  {
   "cell_type": "code",
   "execution_count": null,
   "id": "d8189dee",
   "metadata": {},
   "outputs": [],
   "source": [
    "class teacher:\n",
    "    collage = \"Csvtu\" #attributes\n",
    "    name = \"outside\"\n",
    "    def __init__(self,name):\n",
    "        self.name = name\n",
    "\n",
    "    def welcome(self):\n",
    "        print(\"Second fxn\", self.name)\n",
    "\n",
    "t1 = teacher(\"idk\")\n",
    "\n",
    "print(t1.collage)\n",
    "print(teacher.name)\n",
    "t1.welcome()"
   ]
  },
  {
   "cell_type": "markdown",
   "id": "7e9e37bb",
   "metadata": {},
   "source": [
    "static method -> method that dont use self parametere"
   ]
  },
  {
   "cell_type": "code",
   "execution_count": null,
   "id": "e1e0e3f0",
   "metadata": {},
   "outputs": [],
   "source": [
    "\n",
    "\n",
    "class MS:\n",
    "    @staticmethod\n",
    "    def hello():\n",
    "        print(\"hellow this is a static class\")\n",
    "\n",
    "m = MS()\n",
    "m.hello()"
   ]
  },
  {
   "cell_type": "markdown",
   "id": "67bb6cb3",
   "metadata": {},
   "source": [
    "#Create student class that takes name & marks of 3 subjects as arguments in constructor.\n",
    "#Then create a method to print the average.\n"
   ]
  },
  {
   "cell_type": "code",
   "execution_count": null,
   "id": "a3f9ef4a",
   "metadata": {},
   "outputs": [],
   "source": [
    "\n",
    "\n",
    "# my method\n",
    "\n",
    "class Student:\n",
    "    def __init__(self,name,m1,m2,m3):\n",
    "        self.name = name\n",
    "        self.m1=m1\n",
    "        self.m2=m2\n",
    "        self.m3=m3\n",
    "    \n",
    "    def avg(self):\n",
    "        avg = (self.m1+self.m2+self.m3)/3\n",
    "        print(f\"Average marks of {self.name} in 3 subjects are {avg}\")\n",
    "\n",
    "# s1 = Student(\"Aksh\",90,95,88)\n",
    "# s1.avg()\n",
    "\n",
    "\n",
    "# best method\n",
    "\n",
    "class student:\n",
    "    def __init__(self,name,marks):\n",
    "        self.name = name\n",
    "        self.marks = marks \n",
    "\n",
    "    def Gavg(self):\n",
    "        sum = 0\n",
    "        i = 0\n",
    "        for mar in self.marks:\n",
    "            sum+=mar\n",
    "            i+=1\n",
    "\n",
    "        print(f\"Average marks of {self.name} are {sum/i}\")\n",
    "        \n",
    "\n",
    "s2 = student(\"Aksh\", [90,95,88])\n",
    "s2.Gavg()"
   ]
  },
  {
   "cell_type": "markdown",
   "id": "0c21f52a",
   "metadata": {},
   "source": [
    "#abstraction -> hiding implementation details and showing the essential features from user\n",
    "\n",
    "#encapsulation -> Wrapping up of data in a single unit(obj)\n"
   ]
  },
  {
   "cell_type": "code",
   "execution_count": null,
   "id": "da017620",
   "metadata": {},
   "outputs": [],
   "source": [
    "# abstraction -> hiding implementation details and showing the essential features from user\n",
    "#encapsulation -> Wrapping up of data in a single unit(obj)\n",
    "#   ->normal code with function and contructor\n",
    "\n",
    "\n",
    "class car:\n",
    "    def __init__(self):\n",
    "        self.br = False\n",
    "        self.cl = False\n",
    "        self.acc  = False\n",
    "    def starts(self):\n",
    "        self.cl = True\n",
    "        self.acc  = True\n",
    "        #  self.acc  = True  abstraction is being used\n",
    "        print(\"start\")\n",
    "\n",
    "car1 = car()\n",
    "car1.starts()"
   ]
  },
  {
   "cell_type": "markdown",
   "id": "9291e6f5",
   "metadata": {},
   "source": [
    "Q. Create Account class with 2 attributes - balance & account no. Create methods for debit, credit & printing the balance."
   ]
  },
  {
   "cell_type": "code",
   "execution_count": null,
   "id": "9d2a8d2e",
   "metadata": {},
   "outputs": [],
   "source": [
    "class Account:\n",
    "   \n",
    "    def __init__(self,acc,bal):\n",
    "      self.acc = acc  \n",
    "      self.bal = bal \n",
    "      print(\"Account Opened\")\n",
    "\n",
    "    def cred(self,cr):\n",
    "       self.bal += cr\n",
    "       print(f\"after credit Total Balance : {self.bal}\")\n",
    "\n",
    "    def deb(self,de):\n",
    "       self.bal -= de\n",
    "       print(f\"after debite Total Balance : {self.bal}\")\n",
    "\n",
    "    def getIn(self):\n",
    "       print(f\"Total Balance : {self.bal}\")\n",
    "           \n",
    "\n",
    "ac = Account(12345,10000)\n",
    "ac.getIn()\n",
    "ac.cred(100)\n",
    "ac.getIn()\n",
    "ac.deb(50)\n",
    "ac.getIn()\n",
    "\n",
    "\n",
    "\n",
    "\n"
   ]
  },
  {
   "cell_type": "markdown",
   "id": "9f1fbdea",
   "metadata": {},
   "source": [
    "private attributes and method"
   ]
  },
  {
   "cell_type": "code",
   "execution_count": null,
   "id": "0893d798",
   "metadata": {},
   "outputs": [],
   "source": [
    "# private attribute\n",
    "\n",
    "class Account():\n",
    "    def __init__(self,accNo,passw):\n",
    "        self.accNo = accNo\n",
    "        self.__passw = passw\n",
    "\n",
    "acc = Account(1234,9876)\n",
    "print(acc.accNo)\n",
    "# print(acc.passw)\n",
    "\n",
    "\n",
    "#private method\n",
    "\n",
    "\n",
    "class person:\n",
    "    __name = \"idk\"\n",
    "\n",
    "    def __hello(self):\n",
    "        print(f\"hello , {self.__name}\")\n",
    "\n",
    "    def wish(self):\n",
    "        self.__hello()\n",
    "\n",
    "p = person()\n",
    "p.wish()"
   ]
  },
  {
   "cell_type": "markdown",
   "id": "6947c704",
   "metadata": {},
   "source": [
    "inheritance -> When one class(childlderived) derives the properties & methods of another class(parent/base)."
   ]
  },
  {
   "cell_type": "code",
   "execution_count": null,
   "id": "dc15882e",
   "metadata": {},
   "outputs": [],
   "source": [
    "# single heritance\n",
    "\n",
    "class Game: #parent class\n",
    "    @staticmethod\n",
    "    def playG():\n",
    "        print(\"game strated\")\n",
    "    @staticmethod\n",
    "    def stopG():\n",
    "        print(\"game stopped\")\n",
    "\n",
    "class action(Game): #child class\n",
    "    def __init__(self,name):\n",
    "        self.name = name\n",
    "\n",
    "g1 = action(\"Stormbreaker\")\n",
    "\n",
    "g1.playG()\n",
    "g1.stopG()\n",
    "        "
   ]
  },
  {
   "cell_type": "code",
   "execution_count": null,
   "id": "b05c5856",
   "metadata": {},
   "outputs": [
    {
     "name": "stdout",
     "output_type": "stream",
     "text": [
      "parent A\n",
      "Parents B\n",
      "Child C\n"
     ]
    }
   ],
   "source": [
    "#multipel inheritance -- more than 1 parents\n",
    "\n",
    "\n",
    "class A:\n",
    "    print(\"parent A\")\n",
    "\n",
    "class B:\n",
    "    print(\"Parents B\")\n",
    "\n",
    "class C(A,B):\n",
    "    print(\"Child C\")\n",
    "\n",
    "c1 = C()\n",
    "\n"
   ]
  },
  {
   "cell_type": "markdown",
   "id": "fee1e439",
   "metadata": {},
   "source": [
    "multilevel inheritance same and normal but more than 1 generation"
   ]
  }
 ],
 "metadata": {
  "kernelspec": {
   "display_name": "Python 3",
   "language": "python",
   "name": "python3"
  },
  "language_info": {
   "codemirror_mode": {
    "name": "ipython",
    "version": 3
   },
   "file_extension": ".py",
   "mimetype": "text/x-python",
   "name": "python",
   "nbconvert_exporter": "python",
   "pygments_lexer": "ipython3",
   "version": "3.13.2"
  }
 },
 "nbformat": 4,
 "nbformat_minor": 5
}
