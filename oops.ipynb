{
 "cells": [
  {
   "cell_type": "markdown",
   "id": "af3ad059",
   "metadata": {},
   "source": [
    "constructor "
   ]
  },
  {
   "cell_type": "code",
   "execution_count": null,
   "id": "bca2566b",
   "metadata": {},
   "outputs": [],
   "source": [
    "class Student:\n",
    "   \n",
    "\n",
    "    def __init__(self):\n",
    "        print(\"default construnctor\") #default construnctor\n",
    "        pass\n",
    "\n",
    "    def __init__ (self,name,rollno): #constructor (parametrized)\n",
    "        \n",
    "        self.name = name\n",
    "        self.rollno = rollno\n",
    "       \n",
    "        print(\"Name = \"  ,name)\n",
    "        print(\"rollno = \"  ,rollno)\n",
    "       \n",
    "        print(\"Student of particular data is complete\")\n",
    "\n",
    "s1 = Student(\"Aksh\",5) #object\n",
    "s2 = Student(\"Akshat\",15)\n",
    "\n",
    "\n"
   ]
  },
  {
   "cell_type": "markdown",
   "id": "5a5cc952",
   "metadata": {},
   "source": [
    "Attributes"
   ]
  },
  {
   "cell_type": "code",
   "execution_count": null,
   "id": "d8189dee",
   "metadata": {},
   "outputs": [],
   "source": [
    "class teacher:\n",
    "    collage = \"Csvtu\" #attributes\n",
    "    name = \"outside\"\n",
    "    def __init__(self,name):\n",
    "        self.name = name\n",
    "\n",
    "    def welcome(self):\n",
    "        print(\"Second fxn\", self.name)\n",
    "\n",
    "t1 = teacher(\"idk\")\n",
    "\n",
    "print(t1.collage)\n",
    "print(teacher.name)\n",
    "t1.welcome()"
   ]
  },
  {
   "cell_type": "markdown",
   "id": "7e9e37bb",
   "metadata": {},
   "source": [
    "static method -> method that dont use self parametere"
   ]
  },
  {
   "cell_type": "code",
   "execution_count": null,
   "id": "e1e0e3f0",
   "metadata": {},
   "outputs": [],
   "source": [
    "\n",
    "\n",
    "class MS:\n",
    "    @staticmethod\n",
    "    def hello():\n",
    "        print(\"hellow this is a static class\")\n",
    "\n",
    "m = MS()\n",
    "m.hello()"
   ]
  },
  {
   "cell_type": "markdown",
   "id": "67bb6cb3",
   "metadata": {},
   "source": [
    "#Create student class that takes name & marks of 3 subjects as arguments in constructor.\n",
    "#Then create a method to print the average.\n"
   ]
  },
  {
   "cell_type": "code",
   "execution_count": null,
   "id": "a3f9ef4a",
   "metadata": {},
   "outputs": [],
   "source": [
    "\n",
    "\n",
    "# my method\n",
    "\n",
    "class Student:\n",
    "    def __init__(self,name,m1,m2,m3):\n",
    "        self.name = name\n",
    "        self.m1=m1\n",
    "        self.m2=m2\n",
    "        self.m3=m3\n",
    "    \n",
    "    def avg(self):\n",
    "        avg = (self.m1+self.m2+self.m3)/3\n",
    "        print(f\"Average marks of {self.name} in 3 subjects are {avg}\")\n",
    "\n",
    "# s1 = Student(\"Aksh\",90,95,88)\n",
    "# s1.avg()\n",
    "\n",
    "\n",
    "# best method\n",
    "\n",
    "class student:\n",
    "    def __init__(self,name,marks):\n",
    "        self.name = name\n",
    "        self.marks = marks \n",
    "\n",
    "    def Gavg(self):\n",
    "        sum = 0\n",
    "        i = 0\n",
    "        for mar in self.marks:\n",
    "            sum+=mar\n",
    "            i+=1\n",
    "\n",
    "        print(f\"Average marks of {self.name} are {sum/i}\")\n",
    "        \n",
    "\n",
    "s2 = student(\"Aksh\", [90,95,88])\n",
    "s2.Gavg()"
   ]
  },
  {
   "cell_type": "markdown",
   "id": "0c21f52a",
   "metadata": {},
   "source": [
    "#abstraction -> hiding implementation details and showing the essential features from user\n",
    "\n",
    "#encapsulation -> Wrapping up of data in a single unit(obj)\n"
   ]
  },
  {
   "cell_type": "code",
   "execution_count": null,
   "id": "da017620",
   "metadata": {},
   "outputs": [],
   "source": [
    "# abstraction -> hiding implementation details and showing the essential features from user\n",
    "#encapsulation -> Wrapping up of data in a single unit(obj)\n",
    "#   ->normal code with function and contructor\n",
    "\n",
    "\n",
    "class car:\n",
    "    def __init__(self):\n",
    "        self.br = False\n",
    "        self.cl = False\n",
    "        self.acc  = False\n",
    "    def starts(self):\n",
    "        self.cl = True\n",
    "        self.acc  = True\n",
    "        #  self.acc  = True  abstraction is being used\n",
    "        print(\"start\")\n",
    "\n",
    "car1 = car()\n",
    "car1.starts()"
   ]
  },
  {
   "cell_type": "markdown",
   "id": "9291e6f5",
   "metadata": {},
   "source": [
    "Q. Create Account class with 2 attributes - balance & account no. Create methods for debit, credit & printing the balance."
   ]
  },
  {
   "cell_type": "code",
   "execution_count": null,
   "id": "9d2a8d2e",
   "metadata": {},
   "outputs": [],
   "source": [
    "class Account:\n",
    "   \n",
    "    def __init__(self,acc,bal):\n",
    "      self.acc = acc  \n",
    "      self.bal = bal \n",
    "      print(\"Account Opened\")\n",
    "\n",
    "    def cred(self,cr):\n",
    "       self.bal += cr\n",
    "       print(f\"after credit Total Balance : {self.bal}\")\n",
    "\n",
    "    def deb(self,de):\n",
    "       self.bal -= de\n",
    "       print(f\"after debite Total Balance : {self.bal}\")\n",
    "\n",
    "    def getIn(self):\n",
    "       print(f\"Total Balance : {self.bal}\")\n",
    "           \n",
    "\n",
    "ac = Account(12345,10000)\n",
    "ac.getIn()\n",
    "ac.cred(100)\n",
    "ac.getIn()\n",
    "ac.deb(50)\n",
    "ac.getIn()\n",
    "\n",
    "\n",
    "\n",
    "\n"
   ]
  },
  {
   "cell_type": "markdown",
   "id": "9f1fbdea",
   "metadata": {},
   "source": [
    "private attributes and method"
   ]
  },
  {
   "cell_type": "code",
   "execution_count": null,
   "id": "0893d798",
   "metadata": {},
   "outputs": [],
   "source": [
    "# private attribute\n",
    "\n",
    "class Account():\n",
    "    def __init__(self,accNo,passw):\n",
    "        self.accNo = accNo\n",
    "        self.__passw = passw\n",
    "\n",
    "acc = Account(1234,9876)\n",
    "print(acc.accNo)\n",
    "# print(acc.passw)\n",
    "\n",
    "\n",
    "#private method\n",
    "\n",
    "\n",
    "class person:\n",
    "    __name = \"idk\"\n",
    "\n",
    "    def __hello(self):\n",
    "        print(f\"hello , {self.__name}\")\n",
    "\n",
    "    def wish(self):\n",
    "        self.__hello()\n",
    "\n",
    "p = person()\n",
    "p.wish()"
   ]
  },
  {
   "cell_type": "markdown",
   "id": "6947c704",
   "metadata": {},
   "source": [
    "inheritance -> When one class(childlderived) derives the properties & methods of another class(parent/base)."
   ]
  },
  {
   "cell_type": "code",
   "execution_count": null,
   "id": "dc15882e",
   "metadata": {},
   "outputs": [],
   "source": [
    "# single heritance\n",
    "\n",
    "class Game: #parent class\n",
    "    @staticmethod\n",
    "    def playG():\n",
    "        print(\"game strated\")\n",
    "    @staticmethod\n",
    "    def stopG():\n",
    "        print(\"game stopped\")\n",
    "\n",
    "class action(Game): #child class\n",
    "    def __init__(self,name):\n",
    "        self.name = name\n",
    "\n",
    "g1 = action(\"Stormbreaker\")\n",
    "\n",
    "g1.playG()\n",
    "g1.stopG()\n",
    "        "
   ]
  },
  {
   "cell_type": "code",
   "execution_count": null,
   "id": "b05c5856",
   "metadata": {},
   "outputs": [],
   "source": [
    "#multipel inheritance -- more than 1 parents\n",
    "\n",
    "\n",
    "class A:\n",
    "    print(\"parent A\")\n",
    "\n",
    "class B:\n",
    "    print(\"Parents B\")\n",
    "\n",
    "class C(A,B):\n",
    "    print(\"Child C\")\n",
    "\n",
    "c1 = C()\n",
    "\n"
   ]
  },
  {
   "cell_type": "markdown",
   "id": "fee1e439",
   "metadata": {},
   "source": [
    "multilevel inheritance same and normal but more than 1 generation"
   ]
  },
  {
   "cell_type": "markdown",
   "id": "73265374",
   "metadata": {},
   "source": [
    "Super method -> used to acces method pf parents class"
   ]
  },
  {
   "cell_type": "code",
   "execution_count": null,
   "id": "bc78efac",
   "metadata": {},
   "outputs": [],
   "source": [
    "class car:\n",
    "    def __init__(self,type):\n",
    "        self.type = type\n",
    "\n",
    "    @staticmethod\n",
    "    def start():\n",
    "        print(\"Car Started\")\n",
    "\n",
    "    @staticmethod\n",
    "    def stop():\n",
    "        print(\"Stop\")\n",
    "        \n",
    "class Tcar(car):\n",
    "    def __init__(self,name,type):\n",
    "        self.name = name \n",
    "        super().__init__(type)\n",
    "        super().start()\n",
    "\n",
    "car1 = Tcar(\"Car_name\",\"Nitro\")\n",
    "print(car1.name)\n",
    "print(car1.type)\n",
    "\n"
   ]
  },
  {
   "cell_type": "markdown",
   "id": "41afe144",
   "metadata": {},
   "source": [
    "Class Method ->\n",
    "\n",
    "A class method is bound to the class & receives the class as an implicit first argument."
   ]
  },
  {
   "cell_type": "code",
   "execution_count": null,
   "id": "f48ae915",
   "metadata": {},
   "outputs": [],
   "source": [
    "class person:\n",
    "    name = \"IDK\"\n",
    "    @classmethod\n",
    "    def change_name(self,name):\n",
    "        self.name = name\n",
    "        # or person.name = name\n",
    "\n",
    "p1 = person()\n",
    "p1.change_name(\"Aksh\")\n",
    "print(p1.name)\n",
    "print(person.name)\n"
   ]
  },
  {
   "cell_type": "markdown",
   "id": "a6cd5921",
   "metadata": {},
   "source": [
    "Property Decorater @property\n",
    "any method in the class to use the method as a property.\n",
    "\n",
    "more decorater \n",
    "\n",
    "->getter\n",
    "->setter"
   ]
  },
  {
   "cell_type": "code",
   "execution_count": null,
   "id": "ebcd8977",
   "metadata": {},
   "outputs": [],
   "source": [
    "class Marks:\n",
    "    def __init__(self,m1,m2,m3):\n",
    "        self.m1 = m1\n",
    "        self.m2 = m2\n",
    "        self.m3 = m3\n",
    "\n",
    "    @property\n",
    "    def percentage(self):\n",
    "        return str((self.m1+self.m2+self.m3)/3)+\"%\"\n",
    "\n",
    "student = Marks(91,99,98)\n",
    "print(student.percentage)\n",
    "student.m1 = 52\n",
    "print(student.percentage)\n"
   ]
  },
  {
   "cell_type": "markdown",
   "id": "cabd29bf",
   "metadata": {},
   "source": [
    "Polymorphism : Operator Overloading\n",
    " same operator  have different meaning according to the context."
   ]
  },
  {
   "cell_type": "code",
   "execution_count": null,
   "id": "bf086c1a",
   "metadata": {},
   "outputs": [],
   "source": [
    "class Complex:\n",
    "    def __init__(self,real,img):\n",
    "        self.real = real\n",
    "        self.img = img\n",
    "\n",
    "    def show(self):\n",
    "        print(self.real ,\"i +\" , self.img , \"j\")\n",
    "\n",
    "    def __sub__(self , num2): #__n__ -> dunder function\n",
    "        newR = self.real - num2.real\n",
    "        newI = self.img  - num2.img\n",
    "        return Complex(newR,newI)\n",
    "    \n",
    "    def __add__(self , num2): #-> dunder function\n",
    "        newR = self.real + num2.real\n",
    "        newI = self.img  + num2.img\n",
    "        return Complex(newR,newI)\n",
    "\n",
    "c1 = Complex(2,4)\n",
    "c2 = Complex(6,11)\n",
    "c1.show()\n",
    "c2.show()\n",
    "print(\"Substraction\")\n",
    "c3 = c1 - c2\n",
    "c3.show()\n",
    "print(\"Addition\")\n",
    "c4 = c1 + c2\n",
    "c4.show()\n",
    "        "
   ]
  },
  {
   "cell_type": "markdown",
   "id": "5dff8f58",
   "metadata": {},
   "source": [
    "Qs. Define a Circle class to create a circle with radius r using the constructor.\n",
    "Define an Area() method of the class which calculates the area of the circle.\n",
    "Define a Perimeter() method of the class which allows you to calculate the perimeter of the\n",
    "circle."
   ]
  },
  {
   "cell_type": "code",
   "execution_count": null,
   "id": "4706e2c6",
   "metadata": {},
   "outputs": [],
   "source": [
    "class circle:\n",
    "    PI = 3.14\n",
    "    def __init__(self,r):\n",
    "        self.r = r\n",
    "\n",
    "    def area(self):\n",
    "        return self.r**2*self.PI\n",
    "    \n",
    "    def parameter(self):\n",
    "        return 2*self.PI*self.r\n",
    "        \n",
    "    def result(self):\n",
    "        areaV = self.area()\n",
    "        print(f\"The area of circle is {areaV}\")\n",
    "        para = self.parameter()\n",
    "        print(f\"The Parameter Of The Circle is {para}\")\n",
    "       \n",
    "\n",
    "c1 = circle(4)\n",
    "c1.result()"
   ]
  },
  {
   "cell_type": "markdown",
   "id": "726bf682",
   "metadata": {},
   "source": [
    "Qs. Define a Employee class with attributes role, department & salary. This class also a showDetails( ) method."
   ]
  },
  {
   "cell_type": "code",
   "execution_count": null,
   "id": "5a6ca390",
   "metadata": {},
   "outputs": [],
   "source": [
    "class Employee:\n",
    "    def __init__(self,role,dept,salary):\n",
    "        self.role = role \n",
    "        self.dept = dept\n",
    "        self.__salary = salary \n",
    "\n",
    "    def show(self):\n",
    "        print(f\"Role : {self.role}\")\n",
    "        print(f\"Department : {self.dept}\")\n",
    "        print(f\"Salary : {self.__salary}\")\n",
    "\n",
    "\n",
    "e1 = Employee(\"A\",\"B\",123456)\n",
    "e1.show()\n",
    "# print(e1.__salary) will give error as salary is private\n",
    "        \n"
   ]
  },
  {
   "cell_type": "markdown",
   "id": "563ebff1",
   "metadata": {},
   "source": [
    "Create an Engineer class that inherits properties from Employee & has additional attributes : name & age."
   ]
  },
  {
   "cell_type": "code",
   "execution_count": null,
   "id": "5451e896",
   "metadata": {},
   "outputs": [],
   "source": [
    "class Employee:\n",
    "    def __init__(self,role,dept,salary):\n",
    "        self.role = role \n",
    "        self.dept = dept\n",
    "        self._salary = salary \n",
    "\n",
    "class Engg(Employee):\n",
    "    def __init__(self, role, dept, salary,name,age):\n",
    "        super().__init__(role, dept, salary)\n",
    "        self.name = name\n",
    "        self.age = age \n",
    "\n",
    "\n",
    "    def show(self):\n",
    "        print(f\"Role : {self.role}\")\n",
    "        print(f\"Department : {self.dept}\")\n",
    "        print(f\"Salary : {self._salary}\")\n",
    "        print(f\"Name : {self.name}\")\n",
    "        print(f\"Age : {self.age}\")\n",
    "\n",
    "\n",
    "\n",
    "e1 = Engg(\"A\", \"B\", 123456, \"Aksh\", 18)\n",
    "e1.show()"
   ]
  },
  {
   "cell_type": "markdown",
   "id": "3d47caf3",
   "metadata": {},
   "source": [
    "Qs. Create a class called Order which stores item & its price.\n",
    "Use Dunder function _ _ gt _ _() to convey that:\n",
    "orderl > order2 if price of orderl > price of order2"
   ]
  },
  {
   "cell_type": "code",
   "execution_count": null,
   "id": "a1a44394",
   "metadata": {},
   "outputs": [],
   "source": [
    "class order:\n",
    "    def __init__(self,item,price):\n",
    "        self.item = item\n",
    "        self.price = price\n",
    "\n",
    "    def __gt__(self,other):\n",
    "        if self.price > other.price:\n",
    "            print(\"Price of order 1 is greater than the price of order 2\")\n",
    "            return True\n",
    "        else:\n",
    "            print(\"Price of order 2 is greater than the price of order 1\")\n",
    "            return False\n",
    "        \n",
    "O1 = order(\"Apple\",123456)\n",
    "O2 = order(\"Sumsung\",56788)\n",
    "compare = O1>O2\n",
    "\n",
    "\n",
    "    "
   ]
  }
 ],
 "metadata": {
  "kernelspec": {
   "display_name": "Python 3",
   "language": "python",
   "name": "python3"
  },
  "language_info": {
   "codemirror_mode": {
    "name": "ipython",
    "version": 3
   },
   "file_extension": ".py",
   "mimetype": "text/x-python",
   "name": "python",
   "nbconvert_exporter": "python",
   "pygments_lexer": "ipython3",
   "version": "3.13.2"
  }
 },
 "nbformat": 4,
 "nbformat_minor": 5
}
